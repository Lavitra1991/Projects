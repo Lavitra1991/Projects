{
 "cells": [
  {
   "cell_type": "markdown",
   "id": "b1dbe997",
   "metadata": {},
   "source": [
    "# COMP2200/COMP6200 Assignment 1\n",
    "\n",
    "Due date: 11:55pm on Sunday April 6th 2025\n",
    "\n",
    "(Note that daylight savings ends earlier on that day. Remember to move your clock backward by an hour.)\n",
    "\n",
    "## Scenario\n",
    "\n",
    "You are working as a data scientist in a venture capital investment firm. You have been given some\n",
    "data about a potential company to invest in. You will create some models to predict what the \n",
    "potential company will be like in 12 months' time.\n",
    "\n",
    "\n",
    "## About this assignment\n",
    "\n",
    "This assessment focuses on fundamental statistical analysis, which\n",
    "will apply linear and logistic regression techniques on one or more\n",
    "data sets.\n",
    "\n",
    "The relevant ULO (Unit Learning Outcomes) are:\n",
    "\n",
    "- Identify the appropriate Data Science analysis for a problem and\n",
    "  apply that method to the problem.\n",
    "\n",
    "- Interpret Data Science analyses and summarise and identify the most\n",
    "  important aspects of a Data Science analysis.\n",
    "\n",
    "- Present the results of their Data Science analyses both verbally and\n",
    "  in written form.\n",
    "  \n",
    "Total: 15 marks\n",
    "  \n",
    "\n",
    "## Submission\n",
    "\n",
    "Use https://classroom.github.com/a/BdRkY5OH to create a new empty\n",
    "repository.\n",
    "\n",
    "Complete this notebook and add it to a new GitHub repository.\n",
    "\n",
    "Submit this repository via Github Classroom.\n",
    "\n",
    "Add the video that you create (in the last step) to your GitHub repository.\n",
    "\n",
    "You don't need to submit your CSV data file, but we won't penalise you\n",
    "if you do.\n",
    "\n",
    "## Use of Generative AI\n",
    "\n",
    "Feel free to use Gen-AI tools (ChatGPT, Anthropic Claude, DeepSeek,\n",
    "Llama, etc.) to assist you in writing the code. That's what everyone\n",
    "in industry does nowadays. There are some suggested prompts at the bottom\n",
    "of this notebook.\n",
    "\n",
    "Remember that you may be called on to explain what your code does and\n",
    "how it works, so if you have some code generated for you that you\n",
    "don't fully understand, spend some time with your Gen-AI tool asking\n",
    "for clarification until you are confident. Having a personal tutor\n",
    "guide you is one of the newest and fastest ways to learn to program in\n",
    "Python, so make the most of the opportunity. \n",
    "\n",
    "To help you remember what your code does, you can add comments to your\n",
    "code either by creating another markdown cell, or by using \"#\" at the\n",
    "beginning of a line in a code cell.\n",
    "\n",
    "Don't use Gen-AI tools for writing reflections and observations. You\n",
    "will find many cells in this notebook where you need to enter markdown text.\n",
    "They appear like this:\n",
    "\n",
    "**Your answer here. Replace the text in this markdown cell. Remember not to use Gen-AI here.**\n",
    "\n",
    "You don't want to use Gen-AI in these cells for two reasons:\n",
    "\n",
    "- Thinking and reflecting is how you will get most of the benefit of doing this assignment.\n",
    "\n",
    "- It will produce meaningless and bland statements (that will be obviously meaningless and bland)\n",
    "  and you will get bad marks.\n",
    "  \n",
    "\n",
    "## Marking Criteria\n",
    "\n",
    "For a code cell, any working correct answer will earn full marks. For\n",
    "non-working code, or code that performs a different task, if it seems\n",
    "like you were on the right track, the marker may issue partial marks.\n",
    "\n",
    "For code cells that create visualisations, a correct answer is one that\n",
    "creates a meaningful and useful visualisation of the data.\n",
    "\n",
    "For a text (markdown) cell, word counts are only a guide: this is how\n",
    "many words we think it will take to give a good answer. If you need to\n",
    "use more words, or can express your answer in less words, go ahead: a\n",
    "good answer will still receive full marks.\n",
    "\n",
    "Answers given as dot points in a markdown cell are acceptable;\n",
    "likewise full sentences in paragraphs are acceptable.\n",
    "\n",
    "## Resources\n",
    "\n",
    "The textbook for the unit (_Introduction to Data Science_ by Igual and\n",
    "Segui) has some linear regression examples as well. You might find\n",
    "Section 6.2.3 useful if you are looking for sample code that performs\n",
    "linear regression. Section 6.3.1 has an example of logistic\n",
    "regression.\n",
    "\n",
    "\n",
    "## Data\n",
    "\n",
    "You will find a large zip file called `2025-S1-COMP2200-6200-assignment1.zip` on iLearn.  When you expand it\n",
    "out, you will see many files, including one that begins with your\n",
    "student number. e.g `1235345 Brown-Miller Group.csv`\n",
    "\n",
    "Copy it into the same directory as you copied this Jupyter notebook.\n",
    "\n",
    "### Create a GitHub repo within Github Classroom (0.1 marks)\n",
    "\n",
    "- Yes, we'll give you 0.1 marks just for getting this far.\n",
    "\n",
    "### Import any libraries you need (0.1 marks)\n",
    "\n"
   ]
  },
  {
   "cell_type": "code",
   "execution_count": 1,
   "id": "2880dd9b",
   "metadata": {},
   "outputs": [],
   "source": [
    "import pandas as pd\n",
    "import numpy as np\n",
    "import seaborn as sns\n",
    "import matplotlib.pyplot as plt\n",
    "from sklearn.linear_model import LinearRegression\n",
    "from sklearn.model_selection import train_test_split, cross_val_score\n",
    "from sklearn.preprocessing import StandardScaler\n",
    "from sklearn.linear_model import HuberRegressor\n",
    "from sklearn.metrics import mean_absolute_error\n",
    "from sklearn.linear_model import LogisticRegression\n",
    "from sklearn.metrics import accuracy_score"
   ]
  },
  {
   "cell_type": "markdown",
   "id": "c0554759",
   "metadata": {},
   "source": [
    "\n",
    "\n",
    "If you are doing something exotic --- e.g you are using libraries\n",
    "other than pandas and scikit-learn --- and you want the marker to\n",
    "install an extra package or use a particular version of Python, tell\n",
    "us about it here. Most students will leave this blank.\n",
    "\n"
   ]
  },
  {
   "cell_type": "markdown",
   "id": "891ec97d",
   "metadata": {},
   "source": [
    "*Your answer here. Replace the text in this markdown cell. Remember not to use Gen-AI here.* ________________________________"
   ]
  },
  {
   "cell_type": "markdown",
   "id": "78c29b4a",
   "metadata": {},
   "source": [
    "\n",
    "\n",
    "### Unzip and Load the Data (0.1 marks)\n",
    "\n",
    "- Load the data into a DataFrame using `pd.read_csv()` into a variable called `df`.\n",
    "\n"
   ]
  },
  {
   "cell_type": "code",
   "execution_count": 2,
   "id": "83a3d38c",
   "metadata": {},
   "outputs": [],
   "source": [
    "df = pd.read_csv(\"Company.csv\")"
   ]
  },
  {
   "cell_type": "markdown",
   "id": "a8f7f71b",
   "metadata": {},
   "source": [
    "### Inspect the Data (0.2 marks)\n",
    "- List the column names using `df.columns`."
   ]
  },
  {
   "cell_type": "code",
   "execution_count": 3,
   "id": "c889e4b6",
   "metadata": {},
   "outputs": [
    {
     "name": "stdout",
     "output_type": "stream",
     "text": [
      "Index(['Months_Since_Launch', 'Payroll', 'Revenue', 'Base_10_Log_Revenue',\n",
      "       'Scandals', 'Media Coverage'],\n",
      "      dtype='object')\n"
     ]
    }
   ],
   "source": [
    "print(df.columns)"
   ]
  },
  {
   "cell_type": "markdown",
   "id": "3e866470",
   "metadata": {},
   "source": [
    "- Explore the data in those columns. Briefly describe each column in one sentence."
   ]
  },
  {
   "cell_type": "code",
   "execution_count": null,
   "id": "03fd9c62",
   "metadata": {},
   "outputs": [],
   "source": [
    "Months Since Launch shows the number of months that has passed since the launch of the product/service\n",
    "Payroll shows the total amount spent on the employees salary during the months\n",
    "Revenue shows the total amount the company has generated during the months\n",
    "Base 10 log Revenue shows the revenue during the months through the base-10 logarithm which is used for statistical analysis\n",
    "Scandal shows the number of scandals the company has experienced during the months\n",
    "Media Coverage shows sentiment of the media or general public towards the company during the months"
   ]
  },
  {
   "cell_type": "markdown",
   "id": "33c82146",
   "metadata": {},
   "source": [
    "Suggested word count: ~100 words"
   ]
  },
  {
   "cell_type": "markdown",
   "id": "3c44ce16",
   "metadata": {},
   "source": [
    "*Your answer here. Replace the text in this markdown cell. Remember not to use Gen-AI here.* ________________________________"
   ]
  },
  {
   "cell_type": "markdown",
   "id": "3646e962",
   "metadata": {},
   "source": [
    "### Visualise Payroll Over Time (1 mark)\n",
    "- Create a line plot clearly showing payroll over months since launch."
   ]
  },
  {
   "cell_type": "code",
   "execution_count": 4,
   "id": "ac5cf087",
   "metadata": {},
   "outputs": [
    {
     "data": {
      "image/png": "[encoded data removed]",
      "text/plain": [
       "<Figure size 1200x600 with 1 Axes>"
      ]
     },
     "metadata": {},
     "output_type": "display_data"
    }
   ],
   "source": [
    "plt.figure(figsize=(12,6))\n",
    "plt.plot(df['Months_Since_Launch'],df['Payroll'], marker='o',linestyle='-')\n",
    "plt.title('Payroll')\n",
    "plt.xlabel('Months since Launch')\n",
    "plt.ylabel('Payroll since launch')\n",
    "plt.show()"
   ]
  },
  {
   "cell_type": "markdown",
   "id": "7bdb8e82",
   "metadata": {},
   "source": [
    "- Identify and briefly discuss any visible outliers."
   ]
  },
  {
   "cell_type": "code",
   "execution_count": null,
   "id": "8be54673",
   "metadata": {},
   "outputs": [],
   "source": [
    "In this line chart we can clearly see that the most visible outlier is the one at month 10, where it is nearly double than the average value \n",
    "of the other outliers. This significant boom is due to month 10 accumulating the highest employee payroll as compared to any other months."
   ]
  },
  {
   "cell_type": "markdown",
   "id": "0e78e65a",
   "metadata": {},
   "source": [
    "Suggested word count: ~50 words"
   ]
  },
  {
   "cell_type": "markdown",
   "id": "2616c6e3",
   "metadata": {},
   "source": [
    "*Your answer here. Replace the text in this markdown cell. Remember not to use Gen-AI here.* ________________________________"
   ]
  },
  {
   "cell_type": "markdown",
   "id": "9e1a7fdd",
   "metadata": {},
   "source": [
    "## Linear Regression: Payroll (Total 3 marks)\n",
    "### Step-by-step breakdown:\n",
    "- (0.2 marks) Create training, validation, and test sets correctly:\n",
    "  - Training: all months except last two.\n",
    "  - Validation: second-last month.\n",
    "  - Test: last month."
   ]
  },
  {
   "cell_type": "code",
   "execution_count": 9,
   "id": "7cd0dddb",
   "metadata": {},
   "outputs": [],
   "source": [
    "X = df['Months_Since_Launch']\n",
    "Y = df['Payroll']\n",
    "x_train = X.values[:-2].reshape(-1,1)\n",
    "y_train = Y[:-2]\n",
    "x_validation = X.values[-2:-1].reshape(-1,1)\n",
    "y_validation = Y[-2:-1]\n",
    "x_test = X.values[-1:].reshape(-1,1)\n",
    "y_test = Y[-1:]"
   ]
  },
  {
   "cell_type": "markdown",
   "id": "43a7c702",
   "metadata": {},
   "source": [
    "- (0.5 marks) Train an Ordinary Least Squares (OLS) regressor."
   ]
  },
  {
   "cell_type": "code",
   "execution_count": 11,
   "id": "b63a9316",
   "metadata": {},
   "outputs": [
    {
     "data": {
      "text/html": [
       "<style>#sk-container-id-1 {\n",
       "  /* Definition of color scheme common for light and dark mode */\n",
       "  --sklearn-color-text: black;\n",
       "  --sklearn-color-line: gray;\n",
       "  /* Definition of color scheme for unfitted estimators */\n",
       "  --sklearn-color-unfitted-level-0: #fff5e6;\n",
       "  --sklearn-color-unfitted-level-1: #f6e4d2;\n",
       "  --sklearn-color-unfitted-level-2: #ffe0b3;\n",
       "  --sklearn-color-unfitted-level-3: chocolate;\n",
       "  /* Definition of color scheme for fitted estimators */\n",
       "  --sklearn-color-fitted-level-0: #f0f8ff;\n",
       "  --sklearn-color-fitted-level-1: #d4ebff;\n",
       "  --sklearn-color-fitted-level-2: #b3dbfd;\n",
       "  --sklearn-color-fitted-level-3: cornflowerblue;\n",
       "\n",
       "  /* Specific color for light theme */\n",
       "  --sklearn-color-text-on-default-background: var(--sg-text-color, var(--theme-code-foreground, var(--jp-content-font-color1, black)));\n",
       "  --sklearn-color-background: var(--sg-background-color, var(--theme-background, var(--jp-layout-color0, white)));\n",
       "  --sklearn-color-border-box: var(--sg-text-color, var(--theme-code-foreground, var(--jp-content-font-color1, black)));\n",
       "  --sklearn-color-icon: #696969;\n",
       "\n",
       "  @media (prefers-color-scheme: dark) {\n",
       "    /* Redefinition of color scheme for dark theme */\n",
       "    --sklearn-color-text-on-default-background: var(--sg-text-color, var(--theme-code-foreground, var(--jp-content-font-color1, white)));\n",
       "    --sklearn-color-background: var(--sg-background-color, var(--theme-background, var(--jp-layout-color0, #111)));\n",
       "    --sklearn-color-border-box: var(--sg-text-color, var(--theme-code-foreground, var(--jp-content-font-color1, white)));\n",
       "    --sklearn-color-icon: #878787;\n",
       "  }\n",
       "}\n",
       "\n",
       "#sk-container-id-1 {\n",
       "  color: var(--sklearn-color-text);\n",
       "}\n",
       "\n",
       "#sk-container-id-1 pre {\n",
       "  padding: 0;\n",
       "}\n",
       "\n",
       "#sk-container-id-1 input.sk-hidden--visually {\n",
       "  border: 0;\n",
       "  clip: rect(1px 1px 1px 1px);\n",
       "  clip: rect(1px, 1px, 1px, 1px);\n",
       "  height: 1px;\n",
       "  margin: -1px;\n",
       "  overflow: hidden;\n",
       "  padding: 0;\n",
       "  position: absolute;\n",
       "  width: 1px;\n",
       "}\n",
       "\n",
       "#sk-container-id-1 div.sk-dashed-wrapped {\n",
       "  border: 1px dashed var(--sklearn-color-line);\n",
       "  margin: 0 0.4em 0.5em 0.4em;\n",
       "  box-sizing: border-box;\n",
       "  padding-bottom: 0.4em;\n",
       "  background-color: var(--sklearn-color-background);\n",
       "}\n",
       "\n",
       "#sk-container-id-1 div.sk-container {\n",
       "  /* jupyter's `normalize.less` sets `[hidden] { display: none; }`\n",
       "     but bootstrap.min.css set `[hidden] { display: none !important; }`\n",
       "     so we also need the `!important` here to be able to override the\n",
       "     default hidden behavior on the sphinx rendered scikit-learn.org.\n",
       "     See: https://github.com/scikit-learn/scikit-learn/issues/21755 */\n",
       "  display: inline-block !important;\n",
       "  position: relative;\n",
       "}\n",
       "\n",
       "#sk-container-id-1 div.sk-text-repr-fallback {\n",
       "  display: none;\n",
       "}\n",
       "\n",
       "div.sk-parallel-item,\n",
       "div.sk-serial,\n",
       "div.sk-item {\n",
       "  /* draw centered vertical line to link estimators */\n",
       "  background-image: linear-gradient(var(--sklearn-color-text-on-default-background), var(--sklearn-color-text-on-default-background));\n",
       "  background-size: 2px 100%;\n",
       "  background-repeat: no-repeat;\n",
       "  background-position: center center;\n",
       "}\n",
       "\n",
       "/* Parallel-specific style estimator block */\n",
       "\n",
       "#sk-container-id-1 div.sk-parallel-item::after {\n",
       "  content: \"\";\n",
       "  width: 100%;\n",
       "  border-bottom: 2px solid var(--sklearn-color-text-on-default-background);\n",
       "  flex-grow: 1;\n",
       "}\n",
       "\n",
       "#sk-container-id-1 div.sk-parallel {\n",
       "  display: flex;\n",
       "  align-items: stretch;\n",
       "  justify-content: center;\n",
       "  background-color: var(--sklearn-color-background);\n",
       "  position: relative;\n",
       "}\n",
       "\n",
       "#sk-container-id-1 div.sk-parallel-item {\n",
       "  display: flex;\n",
       "  flex-direction: column;\n",
       "}\n",
       "\n",
       "#sk-container-id-1 div.sk-parallel-item:first-child::after {\n",
       "  align-self: flex-end;\n",
       "  width: 50%;\n",
       "}\n",
       "\n",
       "#sk-container-id-1 div.sk-parallel-item:last-child::after {\n",
       "  align-self: flex-start;\n",
       "  width: 50%;\n",
       "}\n",
       "\n",
       "#sk-container-id-1 div.sk-parallel-item:only-child::after {\n",
       "  width: 0;\n",
       "}\n",
       "\n",
       "/* Serial-specific style estimator block */\n",
       "\n",
       "#sk-container-id-1 div.sk-serial {\n",
       "  display: flex;\n",
       "  flex-direction: column;\n",
       "  align-items: center;\n",
       "  background-color: var(--sklearn-color-background);\n",
       "  padding-right: 1em;\n",
       "  padding-left: 1em;\n",
       "}\n",
       "\n",
       "\n",
       "/* Toggleable style: style used for estimator/Pipeline/ColumnTransformer box that is\n",
       "clickable and can be expanded/collapsed.\n",
       "- Pipeline and ColumnTransformer use this feature and define the default style\n",
       "- Estimators will overwrite some part of the style using the `sk-estimator` class\n",
       "*/\n",
       "\n",
       "/* Pipeline and ColumnTransformer style (default) */\n",
       "\n",
       "#sk-container-id-1 div.sk-toggleable {\n",
       "  /* Default theme specific background. It is overwritten whether we have a\n",
       "  specific estimator or a Pipeline/ColumnTransformer */\n",
       "  background-color: var(--sklearn-color-background);\n",
       "}\n",
       "\n",
       "/* Toggleable label */\n",
       "#sk-container-id-1 label.sk-toggleable__label {\n",
       "  cursor: pointer;\n",
       "  display: block;\n",
       "  width: 100%;\n",
       "  margin-bottom: 0;\n",
       "  padding: 0.5em;\n",
       "  box-sizing: border-box;\n",
       "  text-align: center;\n",
       "}\n",
       "\n",
       "#sk-container-id-1 label.sk-toggleable__label-arrow:before {\n",
       "  /* Arrow on the left of the label */\n",
       "  content: \"▸\";\n",
       "  float: left;\n",
       "  margin-right: 0.25em;\n",
       "  color: var(--sklearn-color-icon);\n",
       "}\n",
       "\n",
       "#sk-container-id-1 label.sk-toggleable__label-arrow:hover:before {\n",
       "  color: var(--sklearn-color-text);\n",
       "}\n",
       "\n",
       "/* Toggleable content - dropdown */\n",
       "\n",
       "#sk-container-id-1 div.sk-toggleable__content {\n",
       "  max-height: 0;\n",
       "  max-width: 0;\n",
       "  overflow: hidden;\n",
       "  text-align: left;\n",
       "  /* unfitted */\n",
       "  background-color: var(--sklearn-color-unfitted-level-0);\n",
       "}\n",
       "\n",
       "#sk-container-id-1 div.sk-toggleable__content.fitted {\n",
       "  /* fitted */\n",
       "  background-color: var(--sklearn-color-fitted-level-0);\n",
       "}\n",
       "\n",
       "#sk-container-id-1 div.sk-toggleable__content pre {\n",
       "  margin: 0.2em;\n",
       "  border-radius: 0.25em;\n",
       "  color: var(--sklearn-color-text);\n",
       "  /* unfitted */\n",
       "  background-color: var(--sklearn-color-unfitted-level-0);\n",
       "}\n",
       "\n",
       "#sk-container-id-1 div.sk-toggleable__content.fitted pre {\n",
       "  /* unfitted */\n",
       "  background-color: var(--sklearn-color-fitted-level-0);\n",
       "}\n",
       "\n",
       "#sk-container-id-1 input.sk-toggleable__control:checked~div.sk-toggleable__content {\n",
       "  /* Expand drop-down */\n",
       "  max-height: 200px;\n",
       "  max-width: 100%;\n",
       "  overflow: auto;\n",
       "}\n",
       "\n",
       "#sk-container-id-1 input.sk-toggleable__control:checked~label.sk-toggleable__label-arrow:before {\n",
       "  content: \"▾\";\n",
       "}\n",
       "\n",
       "/* Pipeline/ColumnTransformer-specific style */\n",
       "\n",
       "#sk-container-id-1 div.sk-label input.sk-toggleable__control:checked~label.sk-toggleable__label {\n",
       "  color: var(--sklearn-color-text);\n",
       "  background-color: var(--sklearn-color-unfitted-level-2);\n",
       "}\n",
       "\n",
       "#sk-container-id-1 div.sk-label.fitted input.sk-toggleable__control:checked~label.sk-toggleable__label {\n",
       "  background-color: var(--sklearn-color-fitted-level-2);\n",
       "}\n",
       "\n",
       "/* Estimator-specific style */\n",
       "\n",
       "/* Colorize estimator box */\n",
       "#sk-container-id-1 div.sk-estimator input.sk-toggleable__control:checked~label.sk-toggleable__label {\n",
       "  /* unfitted */\n",
       "  background-color: var(--sklearn-color-unfitted-level-2);\n",
       "}\n",
       "\n",
       "#sk-container-id-1 div.sk-estimator.fitted input.sk-toggleable__control:checked~label.sk-toggleable__label {\n",
       "  /* fitted */\n",
       "  background-color: var(--sklearn-color-fitted-level-2);\n",
       "}\n",
       "\n",
       "#sk-container-id-1 div.sk-label label.sk-toggleable__label,\n",
       "#sk-container-id-1 div.sk-label label {\n",
       "  /* The background is the default theme color */\n",
       "  color: var(--sklearn-color-text-on-default-background);\n",
       "}\n",
       "\n",
       "/* On hover, darken the color of the background */\n",
       "#sk-container-id-1 div.sk-label:hover label.sk-toggleable__label {\n",
       "  color: var(--sklearn-color-text);\n",
       "  background-color: var(--sklearn-color-unfitted-level-2);\n",
       "}\n",
       "\n",
       "/* Label box, darken color on hover, fitted */\n",
       "#sk-container-id-1 div.sk-label.fitted:hover label.sk-toggleable__label.fitted {\n",
       "  color: var(--sklearn-color-text);\n",
       "  background-color: var(--sklearn-color-fitted-level-2);\n",
       "}\n",
       "\n",
       "/* Estimator label */\n",
       "\n",
       "#sk-container-id-1 div.sk-label label {\n",
       "  font-family: monospace;\n",
       "  font-weight: bold;\n",
       "  display: inline-block;\n",
       "  line-height: 1.2em;\n",
       "}\n",
       "\n",
       "#sk-container-id-1 div.sk-label-container {\n",
       "  text-align: center;\n",
       "}\n",
       "\n",
       "/* Estimator-specific */\n",
       "#sk-container-id-1 div.sk-estimator {\n",
       "  font-family: monospace;\n",
       "  border: 1px dotted var(--sklearn-color-border-box);\n",
       "  border-radius: 0.25em;\n",
       "  box-sizing: border-box;\n",
       "  margin-bottom: 0.5em;\n",
       "  /* unfitted */\n",
       "  background-color: var(--sklearn-color-unfitted-level-0);\n",
       "}\n",
       "\n",
       "#sk-container-id-1 div.sk-estimator.fitted {\n",
       "  /* fitted */\n",
       "  background-color: var(--sklearn-color-fitted-level-0);\n",
       "}\n",
       "\n",
       "/* on hover */\n",
       "#sk-container-id-1 div.sk-estimator:hover {\n",
       "  /* unfitted */\n",
       "  background-color: var(--sklearn-color-unfitted-level-2);\n",
       "}\n",
       "\n",
       "#sk-container-id-1 div.sk-estimator.fitted:hover {\n",
       "  /* fitted */\n",
       "  background-color: var(--sklearn-color-fitted-level-2);\n",
       "}\n",
       "\n",
       "/* Specification for estimator info (e.g. \"i\" and \"?\") */\n",
       "\n",
       "/* Common style for \"i\" and \"?\" */\n",
       "\n",
       ".sk-estimator-doc-link,\n",
       "a:link.sk-estimator-doc-link,\n",
       "a:visited.sk-estimator-doc-link {\n",
       "  float: right;\n",
       "  font-size: smaller;\n",
       "  line-height: 1em;\n",
       "  font-family: monospace;\n",
       "  background-color: var(--sklearn-color-background);\n",
       "  border-radius: 1em;\n",
       "  height: 1em;\n",
       "  width: 1em;\n",
       "  text-decoration: none !important;\n",
       "  margin-left: 1ex;\n",
       "  /* unfitted */\n",
       "  border: var(--sklearn-color-unfitted-level-1) 1pt solid;\n",
       "  color: var(--sklearn-color-unfitted-level-1);\n",
       "}\n",
       "\n",
       ".sk-estimator-doc-link.fitted,\n",
       "a:link.sk-estimator-doc-link.fitted,\n",
       "a:visited.sk-estimator-doc-link.fitted {\n",
       "  /* fitted */\n",
       "  border: var(--sklearn-color-fitted-level-1) 1pt solid;\n",
       "  color: var(--sklearn-color-fitted-level-1);\n",
       "}\n",
       "\n",
       "/* On hover */\n",
       "div.sk-estimator:hover .sk-estimator-doc-link:hover,\n",
       ".sk-estimator-doc-link:hover,\n",
       "div.sk-label-container:hover .sk-estimator-doc-link:hover,\n",
       ".sk-estimator-doc-link:hover {\n",
       "  /* unfitted */\n",
       "  background-color: var(--sklearn-color-unfitted-level-3);\n",
       "  color: var(--sklearn-color-background);\n",
       "  text-decoration: none;\n",
       "}\n",
       "\n",
       "div.sk-estimator.fitted:hover .sk-estimator-doc-link.fitted:hover,\n",
       ".sk-estimator-doc-link.fitted:hover,\n",
       "div.sk-label-container:hover .sk-estimator-doc-link.fitted:hover,\n",
       ".sk-estimator-doc-link.fitted:hover {\n",
       "  /* fitted */\n",
       "  background-color: var(--sklearn-color-fitted-level-3);\n",
       "  color: var(--sklearn-color-background);\n",
       "  text-decoration: none;\n",
       "}\n",
       "\n",
       "/* Span, style for the box shown on hovering the info icon */\n",
       ".sk-estimator-doc-link span {\n",
       "  display: none;\n",
       "  z-index: 9999;\n",
       "  position: relative;\n",
       "  font-weight: normal;\n",
       "  right: .2ex;\n",
       "  padding: .5ex;\n",
       "  margin: .5ex;\n",
       "  width: min-content;\n",
       "  min-width: 20ex;\n",
       "  max-width: 50ex;\n",
       "  color: var(--sklearn-color-text);\n",
       "  box-shadow: 2pt 2pt 4pt #999;\n",
       "  /* unfitted */\n",
       "  background: var(--sklearn-color-unfitted-level-0);\n",
       "  border: .5pt solid var(--sklearn-color-unfitted-level-3);\n",
       "}\n",
       "\n",
       ".sk-estimator-doc-link.fitted span {\n",
       "  /* fitted */\n",
       "  background: var(--sklearn-color-fitted-level-0);\n",
       "  border: var(--sklearn-color-fitted-level-3);\n",
       "}\n",
       "\n",
       ".sk-estimator-doc-link:hover span {\n",
       "  display: block;\n",
       "}\n",
       "\n",
       "/* \"?\"-specific style due to the `<a>` HTML tag */\n",
       "\n",
       "#sk-container-id-1 a.estimator_doc_link {\n",
       "  float: right;\n",
       "  font-size: 1rem;\n",
       "  line-height: 1em;\n",
       "  font-family: monospace;\n",
       "  background-color: var(--sklearn-color-background);\n",
       "  border-radius: 1rem;\n",
       "  height: 1rem;\n",
       "  width: 1rem;\n",
       "  text-decoration: none;\n",
       "  /* unfitted */\n",
       "  color: var(--sklearn-color-unfitted-level-1);\n",
       "  border: var(--sklearn-color-unfitted-level-1) 1pt solid;\n",
       "}\n",
       "\n",
       "#sk-container-id-1 a.estimator_doc_link.fitted {\n",
       "  /* fitted */\n",
       "  border: var(--sklearn-color-fitted-level-1) 1pt solid;\n",
       "  color: var(--sklearn-color-fitted-level-1);\n",
       "}\n",
       "\n",
       "/* On hover */\n",
       "#sk-container-id-1 a.estimator_doc_link:hover {\n",
       "  /* unfitted */\n",
       "  background-color: var(--sklearn-color-unfitted-level-3);\n",
       "  color: var(--sklearn-color-background);\n",
       "  text-decoration: none;\n",
       "}\n",
       "\n",
       "#sk-container-id-1 a.estimator_doc_link.fitted:hover {\n",
       "  /* fitted */\n",
       "  background-color: var(--sklearn-color-fitted-level-3);\n",
       "}\n",
       "</style><div id=\"sk-container-id-1\" class=\"sk-top-container\"><div class=\"sk-text-repr-fallback\"><pre>LinearRegression()</pre><b>In a Jupyter environment, please rerun this cell to show the HTML representation or trust the notebook. <br />On GitHub, the HTML representation is unable to render, please try loading this page with nbviewer.org.</b></div><div class=\"sk-container\" hidden><div class=\"sk-item\"><div class=\"sk-estimator fitted sk-toggleable\"><input class=\"sk-toggleable__control sk-hidden--visually\" id=\"sk-estimator-id-1\" type=\"checkbox\" checked><label for=\"sk-estimator-id-1\" class=\"sk-toggleable__label fitted sk-toggleable__label-arrow fitted\">&nbsp;&nbsp;LinearRegression<a class=\"sk-estimator-doc-link fitted\" rel=\"noreferrer\" target=\"_blank\" href=\"https://scikit-learn.org/1.5/modules/generated/sklearn.linear_model.LinearRegression.html\">?<span>Documentation for LinearRegression</span></a><span class=\"sk-estimator-doc-link fitted\">i<span>Fitted</span></span></label><div class=\"sk-toggleable__content fitted\"><pre>LinearRegression()</pre></div> </div></div></div></div>"
      ],
      "text/plain": [
       "LinearRegression()"
      ]
     },
     "execution_count": 11,
     "metadata": {},
     "output_type": "execute_result"
    }
   ],
   "source": [
    "model = LinearRegression()\n",
    "model.fit(x_train, y_train)"
   ]
  },
  {
   "cell_type": "markdown",
   "id": "0dbd63bb",
   "metadata": {},
   "source": [
    "- (0.5 marks) Train a robust regressor. Use any of the ones we talked\n",
    "  about in lectures or pracs, or one that you happen to know from\n",
    "  elsewhere."
   ]
  },
  {
   "cell_type": "code",
   "execution_count": 13,
   "id": "dd1d7fa1",
   "metadata": {},
   "outputs": [
    {
     "data": {
      "text/html": [
       "<style>#sk-container-id-2 {\n",
       "  /* Definition of color scheme common for light and dark mode */\n",
       "  --sklearn-color-text: black;\n",
       "  --sklearn-color-line: gray;\n",
       "  /* Definition of color scheme for unfitted estimators */\n",
       "  --sklearn-color-unfitted-level-0: #fff5e6;\n",
       "  --sklearn-color-unfitted-level-1: #f6e4d2;\n",
       "  --sklearn-color-unfitted-level-2: #ffe0b3;\n",
       "  --sklearn-color-unfitted-level-3: chocolate;\n",
       "  /* Definition of color scheme for fitted estimators */\n",
       "  --sklearn-color-fitted-level-0: #f0f8ff;\n",
       "  --sklearn-color-fitted-level-1: #d4ebff;\n",
       "  --sklearn-color-fitted-level-2: #b3dbfd;\n",
       "  --sklearn-color-fitted-level-3: cornflowerblue;\n",
       "\n",
       "  /* Specific color for light theme */\n",
       "  --sklearn-color-text-on-default-background: var(--sg-text-color, var(--theme-code-foreground, var(--jp-content-font-color1, black)));\n",
       "  --sklearn-color-background: var(--sg-background-color, var(--theme-background, var(--jp-layout-color0, white)));\n",
       "  --sklearn-color-border-box: var(--sg-text-color, var(--theme-code-foreground, var(--jp-content-font-color1, black)));\n",
       "  --sklearn-color-icon: #696969;\n",
       "\n",
       "  @media (prefers-color-scheme: dark) {\n",
       "    /* Redefinition of color scheme for dark theme */\n",
       "    --sklearn-color-text-on-default-background: var(--sg-text-color, var(--theme-code-foreground, var(--jp-content-font-color1, white)));\n",
       "    --sklearn-color-background: var(--sg-background-color, var(--theme-background, var(--jp-layout-color0, #111)));\n",
       "    --sklearn-color-border-box: var(--sg-text-color, var(--theme-code-foreground, var(--jp-content-font-color1, white)));\n",
       "    --sklearn-color-icon: #878787;\n",
       "  }\n",
       "}\n",
       "\n",
       "#sk-container-id-2 {\n",
       "  color: var(--sklearn-color-text);\n",
       "}\n",
       "\n",
       "#sk-container-id-2 pre {\n",
       "  padding: 0;\n",
       "}\n",
       "\n",
       "#sk-container-id-2 input.sk-hidden--visually {\n",
       "  border: 0;\n",
       "  clip: rect(1px 1px 1px 1px);\n",
       "  clip: rect(1px, 1px, 1px, 1px);\n",
       "  height: 1px;\n",
       "  margin: -1px;\n",
       "  overflow: hidden;\n",
       "  padding: 0;\n",
       "  position: absolute;\n",
       "  width: 1px;\n",
       "}\n",
       "\n",
       "#sk-container-id-2 div.sk-dashed-wrapped {\n",
       "  border: 1px dashed var(--sklearn-color-line);\n",
       "  margin: 0 0.4em 0.5em 0.4em;\n",
       "  box-sizing: border-box;\n",
       "  padding-bottom: 0.4em;\n",
       "  background-color: var(--sklearn-color-background);\n",
       "}\n",
       "\n",
       "#sk-container-id-2 div.sk-container {\n",
       "  /* jupyter's `normalize.less` sets `[hidden] { display: none; }`\n",
       "     but bootstrap.min.css set `[hidden] { display: none !important; }`\n",
       "     so we also need the `!important` here to be able to override the\n",
       "     default hidden behavior on the sphinx rendered scikit-learn.org.\n",
       "     See: https://github.com/scikit-learn/scikit-learn/issues/21755 */\n",
       "  display: inline-block !important;\n",
       "  position: relative;\n",
       "}\n",
       "\n",
       "#sk-container-id-2 div.sk-text-repr-fallback {\n",
       "  display: none;\n",
       "}\n",
       "\n",
       "div.sk-parallel-item,\n",
       "div.sk-serial,\n",
       "div.sk-item {\n",
       "  /* draw centered vertical line to link estimators */\n",
       "  background-image: linear-gradient(var(--sklearn-color-text-on-default-background), var(--sklearn-color-text-on-default-background));\n",
       "  background-size: 2px 100%;\n",
       "  background-repeat: no-repeat;\n",
       "  background-position: center center;\n",
       "}\n",
       "\n",
       "/* Parallel-specific style estimator block */\n",
       "\n",
       "#sk-container-id-2 div.sk-parallel-item::after {\n",
       "  content: \"\";\n",
       "  width: 100%;\n",
       "  border-bottom: 2px solid var(--sklearn-color-text-on-default-background);\n",
       "  flex-grow: 1;\n",
       "}\n",
       "\n",
       "#sk-container-id-2 div.sk-parallel {\n",
       "  display: flex;\n",
       "  align-items: stretch;\n",
       "  justify-content: center;\n",
       "  background-color: var(--sklearn-color-background);\n",
       "  position: relative;\n",
       "}\n",
       "\n",
       "#sk-container-id-2 div.sk-parallel-item {\n",
       "  display: flex;\n",
       "  flex-direction: column;\n",
       "}\n",
       "\n",
       "#sk-container-id-2 div.sk-parallel-item:first-child::after {\n",
       "  align-self: flex-end;\n",
       "  width: 50%;\n",
       "}\n",
       "\n",
       "#sk-container-id-2 div.sk-parallel-item:last-child::after {\n",
       "  align-self: flex-start;\n",
       "  width: 50%;\n",
       "}\n",
       "\n",
       "#sk-container-id-2 div.sk-parallel-item:only-child::after {\n",
       "  width: 0;\n",
       "}\n",
       "\n",
       "/* Serial-specific style estimator block */\n",
       "\n",
       "#sk-container-id-2 div.sk-serial {\n",
       "  display: flex;\n",
       "  flex-direction: column;\n",
       "  align-items: center;\n",
       "  background-color: var(--sklearn-color-background);\n",
       "  padding-right: 1em;\n",
       "  padding-left: 1em;\n",
       "}\n",
       "\n",
       "\n",
       "/* Toggleable style: style used for estimator/Pipeline/ColumnTransformer box that is\n",
       "clickable and can be expanded/collapsed.\n",
       "- Pipeline and ColumnTransformer use this feature and define the default style\n",
       "- Estimators will overwrite some part of the style using the `sk-estimator` class\n",
       "*/\n",
       "\n",
       "/* Pipeline and ColumnTransformer style (default) */\n",
       "\n",
       "#sk-container-id-2 div.sk-toggleable {\n",
       "  /* Default theme specific background. It is overwritten whether we have a\n",
       "  specific estimator or a Pipeline/ColumnTransformer */\n",
       "  background-color: var(--sklearn-color-background);\n",
       "}\n",
       "\n",
       "/* Toggleable label */\n",
       "#sk-container-id-2 label.sk-toggleable__label {\n",
       "  cursor: pointer;\n",
       "  display: block;\n",
       "  width: 100%;\n",
       "  margin-bottom: 0;\n",
       "  padding: 0.5em;\n",
       "  box-sizing: border-box;\n",
       "  text-align: center;\n",
       "}\n",
       "\n",
       "#sk-container-id-2 label.sk-toggleable__label-arrow:before {\n",
       "  /* Arrow on the left of the label */\n",
       "  content: \"▸\";\n",
       "  float: left;\n",
       "  margin-right: 0.25em;\n",
       "  color: var(--sklearn-color-icon);\n",
       "}\n",
       "\n",
       "#sk-container-id-2 label.sk-toggleable__label-arrow:hover:before {\n",
       "  color: var(--sklearn-color-text);\n",
       "}\n",
       "\n",
       "/* Toggleable content - dropdown */\n",
       "\n",
       "#sk-container-id-2 div.sk-toggleable__content {\n",
       "  max-height: 0;\n",
       "  max-width: 0;\n",
       "  overflow: hidden;\n",
       "  text-align: left;\n",
       "  /* unfitted */\n",
       "  background-color: var(--sklearn-color-unfitted-level-0);\n",
       "}\n",
       "\n",
       "#sk-container-id-2 div.sk-toggleable__content.fitted {\n",
       "  /* fitted */\n",
       "  background-color: var(--sklearn-color-fitted-level-0);\n",
       "}\n",
       "\n",
       "#sk-container-id-2 div.sk-toggleable__content pre {\n",
       "  margin: 0.2em;\n",
       "  border-radius: 0.25em;\n",
       "  color: var(--sklearn-color-text);\n",
       "  /* unfitted */\n",
       "  background-color: var(--sklearn-color-unfitted-level-0);\n",
       "}\n",
       "\n",
       "#sk-container-id-2 div.sk-toggleable__content.fitted pre {\n",
       "  /* unfitted */\n",
       "  background-color: var(--sklearn-color-fitted-level-0);\n",
       "}\n",
       "\n",
       "#sk-container-id-2 input.sk-toggleable__control:checked~div.sk-toggleable__content {\n",
       "  /* Expand drop-down */\n",
       "  max-height: 200px;\n",
       "  max-width: 100%;\n",
       "  overflow: auto;\n",
       "}\n",
       "\n",
       "#sk-container-id-2 input.sk-toggleable__control:checked~label.sk-toggleable__label-arrow:before {\n",
       "  content: \"▾\";\n",
       "}\n",
       "\n",
       "/* Pipeline/ColumnTransformer-specific style */\n",
       "\n",
       "#sk-container-id-2 div.sk-label input.sk-toggleable__control:checked~label.sk-toggleable__label {\n",
       "  color: var(--sklearn-color-text);\n",
       "  background-color: var(--sklearn-color-unfitted-level-2);\n",
       "}\n",
       "\n",
       "#sk-container-id-2 div.sk-label.fitted input.sk-toggleable__control:checked~label.sk-toggleable__label {\n",
       "  background-color: var(--sklearn-color-fitted-level-2);\n",
       "}\n",
       "\n",
       "/* Estimator-specific style */\n",
       "\n",
       "/* Colorize estimator box */\n",
       "#sk-container-id-2 div.sk-estimator input.sk-toggleable__control:checked~label.sk-toggleable__label {\n",
       "  /* unfitted */\n",
       "  background-color: var(--sklearn-color-unfitted-level-2);\n",
       "}\n",
       "\n",
       "#sk-container-id-2 div.sk-estimator.fitted input.sk-toggleable__control:checked~label.sk-toggleable__label {\n",
       "  /* fitted */\n",
       "  background-color: var(--sklearn-color-fitted-level-2);\n",
       "}\n",
       "\n",
       "#sk-container-id-2 div.sk-label label.sk-toggleable__label,\n",
       "#sk-container-id-2 div.sk-label label {\n",
       "  /* The background is the default theme color */\n",
       "  color: var(--sklearn-color-text-on-default-background);\n",
       "}\n",
       "\n",
       "/* On hover, darken the color of the background */\n",
       "#sk-container-id-2 div.sk-label:hover label.sk-toggleable__label {\n",
       "  color: var(--sklearn-color-text);\n",
       "  background-color: var(--sklearn-color-unfitted-level-2);\n",
       "}\n",
       "\n",
       "/* Label box, darken color on hover, fitted */\n",
       "#sk-container-id-2 div.sk-label.fitted:hover label.sk-toggleable__label.fitted {\n",
       "  color: var(--sklearn-color-text);\n",
       "  background-color: var(--sklearn-color-fitted-level-2);\n",
       "}\n",
       "\n",
       "/* Estimator label */\n",
       "\n",
       "#sk-container-id-2 div.sk-label label {\n",
       "  font-family: monospace;\n",
       "  font-weight: bold;\n",
       "  display: inline-block;\n",
       "  line-height: 1.2em;\n",
       "}\n",
       "\n",
       "#sk-container-id-2 div.sk-label-container {\n",
       "  text-align: center;\n",
       "}\n",
       "\n",
       "/* Estimator-specific */\n",
       "#sk-container-id-2 div.sk-estimator {\n",
       "  font-family: monospace;\n",
       "  border: 1px dotted var(--sklearn-color-border-box);\n",
       "  border-radius: 0.25em;\n",
       "  box-sizing: border-box;\n",
       "  margin-bottom: 0.5em;\n",
       "  /* unfitted */\n",
       "  background-color: var(--sklearn-color-unfitted-level-0);\n",
       "}\n",
       "\n",
       "#sk-container-id-2 div.sk-estimator.fitted {\n",
       "  /* fitted */\n",
       "  background-color: var(--sklearn-color-fitted-level-0);\n",
       "}\n",
       "\n",
       "/* on hover */\n",
       "#sk-container-id-2 div.sk-estimator:hover {\n",
       "  /* unfitted */\n",
       "  background-color: var(--sklearn-color-unfitted-level-2);\n",
       "}\n",
       "\n",
       "#sk-container-id-2 div.sk-estimator.fitted:hover {\n",
       "  /* fitted */\n",
       "  background-color: var(--sklearn-color-fitted-level-2);\n",
       "}\n",
       "\n",
       "/* Specification for estimator info (e.g. \"i\" and \"?\") */\n",
       "\n",
       "/* Common style for \"i\" and \"?\" */\n",
       "\n",
       ".sk-estimator-doc-link,\n",
       "a:link.sk-estimator-doc-link,\n",
       "a:visited.sk-estimator-doc-link {\n",
       "  float: right;\n",
       "  font-size: smaller;\n",
       "  line-height: 1em;\n",
       "  font-family: monospace;\n",
       "  background-color: var(--sklearn-color-background);\n",
       "  border-radius: 1em;\n",
       "  height: 1em;\n",
       "  width: 1em;\n",
       "  text-decoration: none !important;\n",
       "  margin-left: 1ex;\n",
       "  /* unfitted */\n",
       "  border: var(--sklearn-color-unfitted-level-1) 1pt solid;\n",
       "  color: var(--sklearn-color-unfitted-level-1);\n",
       "}\n",
       "\n",
       ".sk-estimator-doc-link.fitted,\n",
       "a:link.sk-estimator-doc-link.fitted,\n",
       "a:visited.sk-estimator-doc-link.fitted {\n",
       "  /* fitted */\n",
       "  border: var(--sklearn-color-fitted-level-1) 1pt solid;\n",
       "  color: var(--sklearn-color-fitted-level-1);\n",
       "}\n",
       "\n",
       "/* On hover */\n",
       "div.sk-estimator:hover .sk-estimator-doc-link:hover,\n",
       ".sk-estimator-doc-link:hover,\n",
       "div.sk-label-container:hover .sk-estimator-doc-link:hover,\n",
       ".sk-estimator-doc-link:hover {\n",
       "  /* unfitted */\n",
       "  background-color: var(--sklearn-color-unfitted-level-3);\n",
       "  color: var(--sklearn-color-background);\n",
       "  text-decoration: none;\n",
       "}\n",
       "\n",
       "div.sk-estimator.fitted:hover .sk-estimator-doc-link.fitted:hover,\n",
       ".sk-estimator-doc-link.fitted:hover,\n",
       "div.sk-label-container:hover .sk-estimator-doc-link.fitted:hover,\n",
       ".sk-estimator-doc-link.fitted:hover {\n",
       "  /* fitted */\n",
       "  background-color: var(--sklearn-color-fitted-level-3);\n",
       "  color: var(--sklearn-color-background);\n",
       "  text-decoration: none;\n",
       "}\n",
       "\n",
       "/* Span, style for the box shown on hovering the info icon */\n",
       ".sk-estimator-doc-link span {\n",
       "  display: none;\n",
       "  z-index: 9999;\n",
       "  position: relative;\n",
       "  font-weight: normal;\n",
       "  right: .2ex;\n",
       "  padding: .5ex;\n",
       "  margin: .5ex;\n",
       "  width: min-content;\n",
       "  min-width: 20ex;\n",
       "  max-width: 50ex;\n",
       "  color: var(--sklearn-color-text);\n",
       "  box-shadow: 2pt 2pt 4pt #999;\n",
       "  /* unfitted */\n",
       "  background: var(--sklearn-color-unfitted-level-0);\n",
       "  border: .5pt solid var(--sklearn-color-unfitted-level-3);\n",
       "}\n",
       "\n",
       ".sk-estimator-doc-link.fitted span {\n",
       "  /* fitted */\n",
       "  background: var(--sklearn-color-fitted-level-0);\n",
       "  border: var(--sklearn-color-fitted-level-3);\n",
       "}\n",
       "\n",
       ".sk-estimator-doc-link:hover span {\n",
       "  display: block;\n",
       "}\n",
       "\n",
       "/* \"?\"-specific style due to the `<a>` HTML tag */\n",
       "\n",
       "#sk-container-id-2 a.estimator_doc_link {\n",
       "  float: right;\n",
       "  font-size: 1rem;\n",
       "  line-height: 1em;\n",
       "  font-family: monospace;\n",
       "  background-color: var(--sklearn-color-background);\n",
       "  border-radius: 1rem;\n",
       "  height: 1rem;\n",
       "  width: 1rem;\n",
       "  text-decoration: none;\n",
       "  /* unfitted */\n",
       "  color: var(--sklearn-color-unfitted-level-1);\n",
       "  border: var(--sklearn-color-unfitted-level-1) 1pt solid;\n",
       "}\n",
       "\n",
       "#sk-container-id-2 a.estimator_doc_link.fitted {\n",
       "  /* fitted */\n",
       "  border: var(--sklearn-color-fitted-level-1) 1pt solid;\n",
       "  color: var(--sklearn-color-fitted-level-1);\n",
       "}\n",
       "\n",
       "/* On hover */\n",
       "#sk-container-id-2 a.estimator_doc_link:hover {\n",
       "  /* unfitted */\n",
       "  background-color: var(--sklearn-color-unfitted-level-3);\n",
       "  color: var(--sklearn-color-background);\n",
       "  text-decoration: none;\n",
       "}\n",
       "\n",
       "#sk-container-id-2 a.estimator_doc_link.fitted:hover {\n",
       "  /* fitted */\n",
       "  background-color: var(--sklearn-color-fitted-level-3);\n",
       "}\n",
       "</style><div id=\"sk-container-id-2\" class=\"sk-top-container\"><div class=\"sk-text-repr-fallback\"><pre>HuberRegressor()</pre><b>In a Jupyter environment, please rerun this cell to show the HTML representation or trust the notebook. <br />On GitHub, the HTML representation is unable to render, please try loading this page with nbviewer.org.</b></div><div class=\"sk-container\" hidden><div class=\"sk-item\"><div class=\"sk-estimator fitted sk-toggleable\"><input class=\"sk-toggleable__control sk-hidden--visually\" id=\"sk-estimator-id-2\" type=\"checkbox\" checked><label for=\"sk-estimator-id-2\" class=\"sk-toggleable__label fitted sk-toggleable__label-arrow fitted\">&nbsp;&nbsp;HuberRegressor<a class=\"sk-estimator-doc-link fitted\" rel=\"noreferrer\" target=\"_blank\" href=\"https://scikit-learn.org/1.5/modules/generated/sklearn.linear_model.HuberRegressor.html\">?<span>Documentation for HuberRegressor</span></a><span class=\"sk-estimator-doc-link fitted\">i<span>Fitted</span></span></label><div class=\"sk-toggleable__content fitted\"><pre>HuberRegressor()</pre></div> </div></div></div></div>"
      ],
      "text/plain": [
       "HuberRegressor()"
      ]
     },
     "execution_count": 13,
     "metadata": {},
     "output_type": "execute_result"
    }
   ],
   "source": [
    "robust_model = HuberRegressor()\n",
    "robust_model.fit(x_train, y_train)"
   ]
  },
  {
   "cell_type": "markdown",
   "id": "63fc63e1",
   "metadata": {},
   "source": [
    "- (0.5 marks) Clearly identify and justify an appropriate evaluation metric."
   ]
  },
  {
   "cell_type": "code",
   "execution_count": null,
   "id": "361fdf54",
   "metadata": {},
   "outputs": [],
   "source": [
    "An appropriate evaluation metric to compare the different regression models would be the Mean Absolute Error(MAE). \n",
    "The reason is that MAE tends to calculate only the absolute difference between the predicted and the actual value, which makes it less sensitive as \n",
    "compared to others metrics. Since MAE would be less likely to be impacted by extreme value."
   ]
  },
  {
   "cell_type": "markdown",
   "id": "a5c4d408",
   "metadata": {},
   "source": [
    "- (0.5 marks) Evaluate both models using the validation set and state which performed better."
   ]
  },
  {
   "cell_type": "code",
   "execution_count": 15,
   "id": "0eab6c5e",
   "metadata": {},
   "outputs": [
    {
     "name": "stdout",
     "output_type": "stream",
     "text": [
      "OLS Regressor Validation MAE: 469384.6519480534\n",
      "Huber Regressor Validation MAE: 599964.2010846864\n",
      "OLS model performed better on the validation set.\n"
     ]
    }
   ],
   "source": [
    "y_validation_ols_pred = model.predict(x_validation)\n",
    "y_validation_robust_pred = robust_model.predict(x_validation)  \n",
    "validation_ols_mae = mean_absolute_error(y_validation, y_validation_ols_pred)\n",
    "validation_robust_mae = mean_absolute_error(y_validation, y_validation_robust_pred)\n",
    "print(\"OLS Regressor Validation MAE:\", validation_ols_mae)\n",
    "print(\"Huber Regressor Validation MAE:\", validation_robust_mae)\n",
    "if validation_ols_mae < validation_robust_mae:\n",
    "    print(\"OLS model performed better on the validation set.\")\n",
    "elif validation_robust_mae < validation_ols_mae:\n",
    "    print(\"Huber Regressor model performed better on the validation set.\")\n",
    "else:\n",
    "    print(\"Both models performed equally well on the validation set.\")"
   ]
  },
  {
   "cell_type": "markdown",
   "id": "edf2e2b8",
   "metadata": {},
   "source": [
    "*Your answer here. Replace the text in this markdown cell. Remember not to use Gen-AI here.* ________________________________"
   ]
  },
  {
   "cell_type": "markdown",
   "id": "005a443f",
   "metadata": {},
   "source": [
    "- (0.3 marks) Report accuracy of the best-performing model on the test set."
   ]
  },
  {
   "cell_type": "code",
   "execution_count": null,
   "id": "ac6c1cd5",
   "metadata": {},
   "outputs": [],
   "source": [
    "Based on the output of the previous cell we can conclude that the OLS Model performed comparetively better than the Huber Regressor.\n",
    "Since the MAE of the OLS model is closer to the actual prediction as compared to Huber. "
   ]
  },
  {
   "cell_type": "markdown",
   "id": "b428a52b",
   "metadata": {},
   "source": [
    "- (0.5 marks) Reflect on and explain why the selected model performed\n",
    "  better or worse. If it was surprising or expected, explain why.\n",
    "Suggested word count: ~100 words"
   ]
  },
  {
   "cell_type": "markdown",
   "id": "f526640e",
   "metadata": {},
   "source": [
    "I was expecting the Huber regressor model to perform better so it was surprising than the OLS model performed better. I assume that the huber model performed worse because it had a higher Mean Absolute erro(MAE) as compared to OLS. This outcome might be expected if the relationship between the Months since launch and payroll is largely linear and the OLS model is normally efficient in terms of assumption of linear relations and independence of errors. \n",
    "Moreoevr, the huber model is designed to be more robust to outliers and its higher MAE suggets that the perticular validation point may have not been a strong outlier causing the model to perform negatively. In this case the OLS model sensitivity to all data points, without weighting down the potential outliers, resulted in a better fit for the validation data compared to the Huber Regressor's attempt to reduce the influence of potentially anomalous points."
   ]
  },
  {
   "cell_type": "markdown",
   "id": "4975f97f",
   "metadata": {},
   "source": [
    "### Payroll Prediction (1.5 marks)\n",
    "- (0.5 marks) Provide your best estimate for payroll in 12 months."
   ]
  },
  {
   "cell_type": "code",
   "execution_count": 17,
   "id": "64737d9a",
   "metadata": {},
   "outputs": [
    {
     "name": "stdout",
     "output_type": "stream",
     "text": [
      "Predicted Payroll in 12 months: $11124752.48\n"
     ]
    }
   ],
   "source": [
    "future_month = np.array([[36]])\n",
    "predicted_payroll_36 = model.predict(future_month)\n",
    "print(f\"Predicted Payroll in 12 months: ${predicted_payroll_36[0]:.2f}\")"
   ]
  },
  {
   "cell_type": "markdown",
   "id": "3c2d30c0",
   "metadata": {},
   "source": [
    "Suggested word count: ~25 words"
   ]
  },
  {
   "cell_type": "markdown",
   "id": "38f7d635",
   "metadata": {},
   "source": [
    "*Your answer here. Replace the text in this markdown cell. Remember not to use Gen-AI here.* ________________________________"
   ]
  },
  {
   "cell_type": "markdown",
   "id": "c9b99262",
   "metadata": {},
   "source": [
    "\n",
    "\n",
    "- (1 mark) Provide an estimate that takes account for uncertainty,\n",
    "  keeping in mind the evaluation metric you chose. If you want to\n",
    "  calculate additional metrics, you can do that here too.\n",
    "  \n"
   ]
  },
  {
   "cell_type": "code",
   "execution_count": null,
   "id": "971b30ce",
   "metadata": {},
   "outputs": [],
   "source": [
    "The estimate for the payroll at month 36 was $11,124,752.48 which we got using the OLS regression model. Now if we want to account for uncertainity\n",
    "as per the question we would have to take into account the model performance in the validation dataset. Since, the Mean ABsolute Error(MAE) was 469,384.6\n",
    "we can say with confidence that our prediction is off by this particular amount. Therefore, in order to get a more accurate prediction we would have to\n",
    "add and substract the MAE with the prediction amount in order to get a more accurate prediction after accounting for uncertainity. Therefore, after the \n",
    "calculation our value lies in the range of $10,655,367 to $11,594,137 "
   ]
  },
  {
   "cell_type": "markdown",
   "id": "d5ed073d",
   "metadata": {},
   "source": [
    "\n",
    "\n",
    "Suggested word count: ~100 words\n",
    "\n"
   ]
  },
  {
   "cell_type": "markdown",
   "id": "9fcae270",
   "metadata": {},
   "source": [
    "*Your answer here. Replace the text in this markdown cell. Remember not to use Gen-AI here.* ________________________________"
   ]
  },
  {
   "cell_type": "markdown",
   "id": "34b573be",
   "metadata": {},
   "source": [
    "\n",
    "\n",
    "## Revenue Visualisation and Transformation (1 mark)\n",
    "\n",
    "- (0.5 marks) Visualise revenue over time.\n",
    "\n"
   ]
  },
  {
   "cell_type": "code",
   "execution_count": 19,
   "id": "f40bf7ca",
   "metadata": {},
   "outputs": [
    {
     "data": {
      "image/png": "[encoded data removed]",
      "text/plain": [
       "<Figure size 1200x600 with 1 Axes>"
      ]
     },
     "metadata": {},
     "output_type": "display_data"
    }
   ],
   "source": [
    "plt.figure(figsize=(12, 6))\n",
    "plt.plot(df['Months_Since_Launch'], df['Revenue'], marker='o', linestyle='-', color='skyblue')\n",
    "plt.title('Revenue Over Time')\n",
    "plt.xlabel('Months Since Launch')\n",
    "plt.ylabel('Revenue')\n",
    "plt.grid(True)\n",
    "plt.show()"
   ]
  },
  {
   "cell_type": "markdown",
   "id": "343d7cf4",
   "metadata": {},
   "source": [
    "\n",
    "\n",
    "- (0.5 marks) Clearly explain why applying a log transformation to revenue may help linear modelling.\n",
    "\n"
   ]
  },
  {
   "cell_type": "code",
   "execution_count": null,
   "id": "70a5739a",
   "metadata": {},
   "outputs": [],
   "source": [
    "Log transformation of revenue helps linear modeling by addressing the non lenearity elements, which is present in our growing revenue data.\n",
    "The log transformation can amke the data distribution of the revenue data closer to normal which is a key assumption in a linear regression."
   ]
  },
  {
   "cell_type": "markdown",
   "id": "7943e29d",
   "metadata": {},
   "source": [
    "\n",
    "\n",
    "## Revenue Modelling (3 marks)\n",
    "\n",
    "- (0.5 marks) Train a linear regression model (any model you choose) on the original revenue data.\n",
    "\n"
   ]
  },
  {
   "cell_type": "code",
   "execution_count": 21,
   "id": "c5f50ac3",
   "metadata": {},
   "outputs": [
    {
     "name": "stdout",
     "output_type": "stream",
     "text": [
      "Linear Regression Model Trained on Original Revenue Data:\n",
      "Coefficient (Slope): 43835.25\n",
      "Intercept: -260920.77\n"
     ]
    }
   ],
   "source": [
    "X_revenue = df['Months_Since_Launch'].values.reshape(-1, 1)\n",
    "y_revenue = df['Revenue'].values\n",
    "linear_model_revenue = LinearRegression()\n",
    "linear_model_revenue.fit(X_revenue, y_revenue)\n",
    "print(\"Linear Regression Model Trained on Original Revenue Data:\")\n",
    "print(f\"Coefficient (Slope): {linear_model_revenue.coef_[0]:.2f}\")\n",
    "print(f\"Intercept: {linear_model_revenue.intercept_:.2f}\")"
   ]
  },
  {
   "cell_type": "markdown",
   "id": "cf9389c0",
   "metadata": {},
   "source": [
    "- (0.5 marks) Train a linear regression model on the log-transformed revenue data."
   ]
  },
  {
   "cell_type": "code",
   "execution_count": 23,
   "id": "921a8624",
   "metadata": {},
   "outputs": [
    {
     "name": "stdout",
     "output_type": "stream",
     "text": [
      "Linear Regression Model Trained on Log-Transformed Revenue Data:\n",
      "Coefficient (Slope): 0.2016\n",
      "Intercept: 9.1785\n"
     ]
    }
   ],
   "source": [
    "X_log_revenue = df['Months_Since_Launch'].values.reshape(-1, 1)\n",
    "y_log_revenue = np.log(df['Revenue'].values)\n",
    "log_linear_model_revenue = LinearRegression()\n",
    "log_linear_model_revenue.fit(X_log_revenue, y_log_revenue)\n",
    "print(\"Linear Regression Model Trained on Log-Transformed Revenue Data:\")\n",
    "print(f\"Coefficient (Slope): {log_linear_model_revenue.coef_[0]:.4f}\")\n",
    "print(f\"Intercept: {log_linear_model_revenue.intercept_:.4f}\")"
   ]
  },
  {
   "cell_type": "markdown",
   "id": "c4064aa9",
   "metadata": {},
   "source": [
    "\n",
    "\n",
    "- (0.5 marks) Compare both models clearly and identify the better-performing model.\n",
    "\n"
   ]
  },
  {
   "cell_type": "code",
   "execution_count": null,
   "id": "20d8e6f2",
   "metadata": {},
   "outputs": [],
   "source": [
    "Based on the output of the both the model we can confidently conclude that the Linear model trained on Log transformed revenue data performed \n",
    "significantly better than the other model. This is because the log transformed model in this particular case is better equipped to deal with\n",
    "the revenue data "
   ]
  },
  {
   "cell_type": "markdown",
   "id": "c12b4a41",
   "metadata": {},
   "source": [
    "\n",
    "\n",
    "Suggested word count: ~25 words\n",
    "\n"
   ]
  },
  {
   "cell_type": "markdown",
   "id": "56c2627d",
   "metadata": {},
   "source": [
    "*Your answer here. Replace the text in this markdown cell. Remember not to use Gen-AI here.* ________________________________"
   ]
  },
  {
   "cell_type": "markdown",
   "id": "c20c4960",
   "metadata": {},
   "source": [
    "\n",
    "\n",
    "- (0.5 marks) Predict revenue 12 months ahead, reversing any\n",
    "  transformations applied. Remember that the predictions of the\n",
    "  log-transformed revenue data need to be turned back into the\n",
    "  original units (dollars).\n",
    "  \n"
   ]
  },
  {
   "cell_type": "code",
   "execution_count": 25,
   "id": "7745f789",
   "metadata": {},
   "outputs": [
    {
     "name": "stdout",
     "output_type": "stream",
     "text": [
      "Predicted Revenue after 12 months (Log-Transformed Model): $13736043.39\n"
     ]
    }
   ],
   "source": [
    "future_month = np.array([[36]])\n",
    "predicted_log_revenue = log_linear_model_revenue.predict(future_month)[0]\n",
    "predicted_revenue_log_transformed = np.exp(predicted_log_revenue)\n",
    "print(f\"Predicted Revenue after 12 months (Log-Transformed Model): ${predicted_revenue_log_transformed:.2f}\")"
   ]
  },
  {
   "cell_type": "markdown",
   "id": "9508c2bc",
   "metadata": {},
   "source": [
    "\n",
    "\n",
    "Suggested word count: ~25 words\n",
    "\n"
   ]
  },
  {
   "cell_type": "markdown",
   "id": "e98fed0d",
   "metadata": {},
   "source": [
    "*Your answer here. Replace the text in this markdown cell. Remember not to use Gen-AI here.* ________________________________"
   ]
  },
  {
   "cell_type": "markdown",
   "id": "da38a54a",
   "metadata": {},
   "source": [
    "\n",
    "\n",
    "- (1 mark) Predict revenue 20 years ahead. Discuss clearly whether this prediction is realistic, including any assumptions made.\n",
    "\n"
   ]
  },
  {
   "cell_type": "code",
   "execution_count": 27,
   "id": "fb2f02af",
   "metadata": {},
   "outputs": [
    {
     "name": "stdout",
     "output_type": "stream",
     "text": [
      "Predicted Revenue at 20 Years (Original Model): $11311584.06\n",
      "Predicted Revenue at 20 Years (Log-Transformed Model): $1254631912546075753995829248.00\n"
     ]
    }
   ],
   "source": [
    "years_ahead = 20\n",
    "months_ahead = years_ahead * 12\n",
    "future_month_long_term = np.array([[24 + months_ahead]]) \n",
    "predicted_revenue_original_long_term = linear_model_revenue.predict(future_month_long_term)[0]\n",
    "print(f\"Predicted Revenue at {years_ahead} Years (Original Model): ${predicted_revenue_original_long_term:.2f}\")\n",
    "predicted_log_revenue_long_term = log_linear_model_revenue.predict(future_month_long_term)[0]\n",
    "predicted_revenue_log_transformed_long_term = np.exp(predicted_log_revenue_long_term)\n",
    "print(f\"Predicted Revenue at {years_ahead} Years (Log-Transformed Model): ${predicted_revenue_log_transformed_long_term:.2f}\")"
   ]
  },
  {
   "cell_type": "markdown",
   "id": "ca3191a3",
   "metadata": {},
   "source": [
    "\n",
    "\n",
    "Suggested word count: ~150 words\n",
    "\n"
   ]
  },
  {
   "cell_type": "markdown",
   "id": "ffd5b961",
   "metadata": {},
   "source": [
    "Based on the output we can see that the original model predict a revenue of 11.3 million dollars, assuming a consistent linear growth over the 20 years and  completely ignoring the market complexities and other factors like inflation or competition. Whereas, the log transformed model predicted an outrageous 12.5 septillion dollars which is obviously unrealistic. Though both the models assume that the company revenue shall grow at a consistent rate and ignores market conditions, we can easily observe that the Original model prediction is comparetively more realistic as compared to the log transformed model. However, if we are to analyse both the model individually both the model seems to be unrealistic. Only through comparison does the Original model seems realistic."
   ]
  },
  {
   "cell_type": "markdown",
   "id": "87408c64",
   "metadata": {},
   "source": [
    "\n",
    "\n",
    "\n",
    "## Logistic Regression: Predicting Negative Media Coverage (3 marks)\n",
    "\n",
    "You will see a column called \"Media Coverage\" which takes values of\n",
    "\"Positive\" or \"Negative\". This is *categorical* data, meaning it\n",
    "consists of distinct, finite values.\n",
    "\n",
    "If a journalist wrote something nice about the company you will see a\n",
    "\"Positive\" in this column. If they wrote something bad about the\n",
    "company (or didn't write anything at all), you will see a \"Negative\"\n",
    "in this column.\n",
    "\n",
    "- (0.5 marks) Which features will you use to predict \"Media Coverage\"?\n",
    "\n",
    "Suggested word count: ~50 words\n",
    "\n"
   ]
  },
  {
   "cell_type": "markdown",
   "id": "775457ad",
   "metadata": {},
   "source": [
    "To predict the media coverage based on a feature, it would only be logical to consider Scandal. Because a scandal can significantly impact the public and the media perception of the company. The more scandals a company finds itself into the more chance that there are likely to face negative media reporting of the company and vice versa. In conclusion, a scandal can single handedly influence the media coverage of the company."
   ]
  },
  {
   "cell_type": "markdown",
   "id": "4ba57c71",
   "metadata": {},
   "source": [
    "- (0.1 marks) We don't need validation data (we aren't comparing any models), but we do need test\n",
    "  data so that we can see if the model is worthwhile. Randomly select some data to act as test\n",
    "  data."
   ]
  },
  {
   "cell_type": "code",
   "execution_count": 29,
   "id": "6864e0a7",
   "metadata": {},
   "outputs": [],
   "source": [
    "test_fraction = 0.2\n",
    "test_indices_media = df.sample(frac=test_fraction, random_state=42).index"
   ]
  },
  {
   "cell_type": "markdown",
   "id": "e3abbdf3",
   "metadata": {},
   "source": [
    "\n",
    "  \n",
    "- (0.1 marks) Train a logistic regression model on the training (non-test) data\n",
    "\n"
   ]
  },
  {
   "cell_type": "code",
   "execution_count": 31,
   "id": "70e23258",
   "metadata": {},
   "outputs": [
    {
     "name": "stdout",
     "output_type": "stream",
     "text": [
      "Logistic Regression model trained.\n"
     ]
    }
   ],
   "source": [
    "x_media = df[['Scandals']]\n",
    "y_media = df['Media Coverage'].apply(lambda x: 1 if x == 'Negative' else 0)\n",
    "x_train_media, x_test_media, y_train_media, y_test_media = train_test_split(\n",
    "    x_media, y_media, test_size=0.2, random_state=42, stratify=y_media\n",
    ")\n",
    "logistic_model = LogisticRegression()\n",
    "logistic_model.fit(x_train_media, y_train_media)\n",
    "print(\"Logistic Regression model trained.\")"
   ]
  },
  {
   "cell_type": "markdown",
   "id": "c3d10561",
   "metadata": {},
   "source": [
    "\n",
    "\n",
    "- (0.1 marks) Choose a metric and evaluate the success of your logistic regression\n",
    "\n"
   ]
  },
  {
   "cell_type": "code",
   "execution_count": 33,
   "id": "844c11ae",
   "metadata": {},
   "outputs": [
    {
     "name": "stdout",
     "output_type": "stream",
     "text": [
      "Accuracy: 0.60\n"
     ]
    }
   ],
   "source": [
    "y_pred_media = logistic_model.predict(x_test_media)\n",
    "accuracy = accuracy_score(y_test_media, y_pred_media)\n",
    "print(f\"Accuracy: {accuracy:.2f}\")"
   ]
  },
  {
   "cell_type": "markdown",
   "id": "16c2e1e1",
   "metadata": {},
   "source": [
    "\n",
    "\n",
    "- (0.1 marks) Examine the coefficients of the logistic regression model that you created.\n",
    "\n"
   ]
  },
  {
   "cell_type": "code",
   "execution_count": 35,
   "id": "1c94c42c",
   "metadata": {},
   "outputs": [
    {
     "name": "stdout",
     "output_type": "stream",
     "text": [
      "Coefficient for Scandal: 0.0\n",
      "Intercept: 0.31841196925472803\n"
     ]
    }
   ],
   "source": [
    "print(\"Coefficient for Scandal:\", logistic_model.coef_[0][0])\n",
    "print(\"Intercept:\", logistic_model.intercept_[0])"
   ]
  },
  {
   "cell_type": "markdown",
   "id": "8da42f45",
   "metadata": {},
   "source": [
    "\n",
    "\n",
    "- (1 mark) Clearly discuss the logistic regression coefficients and\n",
    "  identify the most influential features contributing to negative\n",
    "  media coverage.\n",
    "  \n",
    "  Suggested word count: ~150 words\n",
    "\n"
   ]
  },
  {
   "cell_type": "markdown",
   "id": "1b968086",
   "metadata": {},
   "source": [
    "As we can see that the logistic model coefficient for scandal is 0 which indicates that according to the model, a scandal has no impact on the event of media coverage. This is a rather surprising result to me because i assumed that a scandal would significantly impact the media coverage. However, based on the data the model is trained on, it seems that a scandal has virtually no effect whatsoever in influencing the media coverage of the company.\n",
    "As we can see that the intercept is 0.318, in logistic regression the intercept represent the negative media coverage with the value of 1 when all the factors are 0. In this particular case, since scandal is the only factor the intercept suggest that even when there is no scandal the chances of negative media coverage is 0.318. "
   ]
  },
  {
   "cell_type": "markdown",
   "id": "37303483",
   "metadata": {},
   "source": [
    "\n",
    "\n",
    "- (1 mark) Use the logistic regression model to predict the probability of negative media\n",
    "  coverage 12 months from now. Assume that there are no scandals in that month.\n",
    "  \n"
   ]
  },
  {
   "cell_type": "code",
   "execution_count": 37,
   "id": "69d19bce",
   "metadata": {},
   "outputs": [
    {
     "name": "stdout",
     "output_type": "stream",
     "text": [
      "The probability of negative media coverage in 12 months (no scandal) is: 0.5789\n"
     ]
    }
   ],
   "source": [
    "intercept = 0.3184\n",
    "log_odds_negative = intercept\n",
    "probability_negative = 1 / (1 + np.exp(-log_odds_negative))\n",
    "print(f\"The probability of negative media coverage in 12 months (no scandal) is: {probability_negative:.4f}\")"
   ]
  },
  {
   "cell_type": "markdown",
   "id": "83e0462c",
   "metadata": {},
   "source": [
    "\n",
    "\n",
    "Suggested word count: ~25 words\n",
    "\n"
   ]
  },
  {
   "cell_type": "markdown",
   "id": "0aeed4b3",
   "metadata": {},
   "source": [
    "*Your answer here. Replace the text in this markdown cell. Remember not to use Gen-AI here.* ________________________________"
   ]
  },
  {
   "cell_type": "markdown",
   "id": "bf7749b0",
   "metadata": {},
   "source": [
    "\n",
    "\n",
    "- (0.1 marks) Restart the kernel and rerun the notebook to verify that\n",
    "  it is still working start-to-finish. Enter the \"RESTARTED AND\n",
    "  CHECKED\" in the next cell when you have done this.\n",
    "  \n",
    "  Suggested word count: 3 words\n",
    "  \n"
   ]
  },
  {
   "cell_type": "markdown",
   "id": "801671f3",
   "metadata": {},
   "source": [
    "\"RESTARTED AND CHECKED\""
   ]
  },
  {
   "cell_type": "markdown",
   "id": "78384750",
   "metadata": {},
   "source": [
    "\n",
    "\n",
    "## Written Summary of Findings (1.5 marks)\n",
    "\n",
    "- Provide a coherent one-paragraph summary clearly highlighting key\n",
    "  results and your confidence in these predictions. The investment\n",
    "  fund wants to know what you think this company will be like in a\n",
    "  year's time (revenue, payroll, media coverage).\n",
    "  \n",
    "Note that we aren't marking whether you have a right or wrong answer here, we are\n",
    "going to mark whether what you say shows an understanding of what your data \n",
    "analysis and modelling produced.\n",
    "\n",
    "If you want to add any visualisations here, you can.\n",
    "\n"
   ]
  },
  {
   "cell_type": "code",
   "execution_count": null,
   "id": "6eea1a73",
   "metadata": {},
   "outputs": [],
   "source": []
  },
  {
   "cell_type": "markdown",
   "id": "3884b117",
   "metadata": {},
   "source": [
    "\n",
    "\n",
    "Suggested word count: ~250 words\n",
    "\n"
   ]
  },
  {
   "cell_type": "markdown",
   "id": "24aa9fc3",
   "metadata": {},
   "source": [
    "My analysis suggests that after one year there shall be a few changes for the company in terms of revenue, media coverage etc. \n",
    "As we can see in the linear regression model, the company revenue is predicted to reach 13.7 million dollars whereas the payroll is predicted to reach \n",
    "11.12 million dollars. Moreover, there is an estimated uncertainity of 468,384 dollars as per the OLS Regression model Mean Absolute Error(MAE). \n",
    "As for the media coverage the logistic regression model shows that there is a 57.9 % chance there shall be a negative media coverage towards the company\n",
    "even in the absence of any Scandals. \n",
    "\n",
    "Now my confidence in these predictions varies depending on the column. The payroll prediction relies on the assumption that past linear trends shall \n",
    "continue consistently and not be impacted by other factors, which is obviously not going to be the case since both external and internal factors could\n",
    "significantly impact the payroll. The revenue prediction from the log transformed model also assume a consistent growth patterns which proves to be \n",
    "unrealistic. Hence, we use the OLS model MAE which provides us a range and acknowledge the uncertainity that comes with predictions of different models.\n",
    "\n",
    "Moreover, the model coefficient for Scandals being 0 shows that there is no link between the scandals and the company media coverage. \n",
    "Furthermore, the logistic regression model showed a coefficient of 57.9 % signifying a tendency for the company to experience negative media \n",
    "coverage even in the absence of scandals. In conclusion, while these models might provide some information about the company future they must be \n",
    "taken with a pinch of salt after considering factors like limited historical data and unforseen external and internal factors."
   ]
  },
  {
   "cell_type": "markdown",
   "id": "334cf26f",
   "metadata": {},
   "source": [
    "\n",
    "\n",
    "\n",
    "## 2-Minute Video Presentation (1.5 marks)\n",
    "\n",
    "Some of your (non-technical) colleagues in this venture capital firm\n",
    "are in other timezones, and don't know how to program, so you need to\n",
    "create a video presentation for them describing your insights.\n",
    "\n",
    "It is common for data scientists to record screencasts (a presentation\n",
    "with a voiceover); not everyone records video of themselves\n",
    "talking. Some people use the QuickTime application in OSX; some record\n",
    "a Zoom meeting; people find technology and programs that they are\n",
    "comfortable using.\n",
    "\n",
    "Some people present presentations directly from their Jupyter notebook;\n",
    "others create custom PowerPoint presentations. \n",
    "\n",
    "So your choices in this section are quite open. \n",
    "\n",
    "- (0.5 marks) Submit a video, and ensure the video is in low resolution (SD, 480p)\n",
    "  so that it is small enough to upload. Keep the time to around 2\n",
    "  minutes.\n",
    "\n",
    "- (0.6 marks) State what you believe will happen to this startup over the next 12 months:\n",
    "  revenue, payroll, positive/negative media coverage. (0.6 marks)\n",
    "  \n",
    "- (0.4 marks) Briefly discuss any limitations or assumptions you made\n",
    "  in your analysis and how they might affect your predictions. Suggest\n",
    "  at least one practical step or recommendation to address these\n",
    "  concerns.\n",
    "\n",
    "\n",
    "\n",
    "\n",
    "\n",
    "\n",
    "## Late Assessment Submission Penalty \n",
    "\n",
    "Unless a Special Consideration request has been submitted and\n",
    "approved, a 5% penalty (of the total possible mark of the task) will\n",
    "be applied for each day a written report or presentation assessment is\n",
    "not submitted, up until the 7th day (including weekends). After the\n",
    "7th day, a grade of ‘0’ will be awarded even if the assessment is\n",
    "submitted. The submission time for all uploaded assessments is 11:55\n",
    "pm. A 1-hour grace period will be provided to students who experience\n",
    "a technical concern. For any late submission of time-sensitive tasks,\n",
    "such as scheduled tests/exams, performance assessments/presentations,\n",
    "and/or scheduled practical assessments/labs, please apply for\n",
    "[Special Consideration](https://students.mq.edu.au/study/assessment-exams/special-consideration).\n",
    "\n",
    "For example, as this assignment is worth 15% of the entire unit, a\n",
    "submission late by up to 24 hours will incur a penalty of 0.75 marks\n",
    "(5% of 15 marks). A submission that is late by between 24 and 48 hours\n",
    "will incur a penalty of 1.5 marks (10% of 15 marks), and so on.\n",
    "\n",
    "## Sample Gen-AI prompts\n",
    "\n",
    "Programming prompts:\n",
    "\n",
    "```\n",
    "Don't give me the answer directly, but help guide me to answering\n",
    "this question. I will be programming in Python using the pandas and scikit-learn\n",
    "libraries. If it appears that I don't know something that I would need to \n",
    "answer a question, suggest functions or classes that I should learn about. Always\n",
    "add little bits of information that will guide my journey.\n",
    "\n",
    "Here is my code so far, and the question I am trying to answer\n",
    "(....)\n",
    "```\n",
    "\n",
    "If you are concerned about your grammar or language, try a prompt like this:\n",
    "\n",
    "```\n",
    "Find any grammatical mistakes, typos or other language errors in this\n",
    "text. Don't make the corrections, just list for me what was wrong and\n",
    "explain the problem.\n",
    "```\n",
    "\n"
   ]
  }
 ],
 "metadata": {
  "kernelspec": {
   "display_name": "Python [conda env:base]",
   "language": "python",
   "name": "conda-base-py"
  },
  "language_info": {
   "codemirror_mode": {
    "name": "ipython",
    "version": 3
   },
   "file_extension": ".py",
   "mimetype": "text/x-python",
   "name": "python",
   "nbconvert_exporter": "python",
   "pygments_lexer": "ipython3",
   "version": "3.12.7"
  }
 },
 "nbformat": 4,
 "nbformat_minor": 5
}
